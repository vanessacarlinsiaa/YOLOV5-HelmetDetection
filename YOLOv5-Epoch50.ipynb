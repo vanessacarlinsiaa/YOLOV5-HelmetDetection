{
 "cells": [
  {
   "cell_type": "markdown",
   "metadata": {},
   "source": [
    "CODE GOOGLE COLAB: https://colab.research.google.com/drive/1IExW7PY61ZzNrY1tjNfTg6swY6TTe24P#scrollTo=Ehn_OWNOkEpk\n",
    "\n",
    "Helmet detection using YOLOv5 with 50 epoch"
   ]
  },
  {
   "cell_type": "markdown",
   "metadata": {},
   "source": [
    "Menggunakan dataset roboflow 182 images https://universe.roboflow.com/politeknik-negeri-jakarta-bivo4/deteksi-helm/dataset/16/images?split=train"
   ]
  },
  {
   "cell_type": "code",
   "execution_count": null,
   "metadata": {},
   "outputs": [],
   "source": [
    "!pip install roboflow\n",
    "\n",
    "from roboflow import Roboflow\n",
    "rf = Roboflow(api_key=\"hIqRQ3q6GNTEbr3gBq5v\")\n",
    "project = rf.workspace(\"politeknik-negeri-jakarta-bivo4\").project(\"deteksi-helm\")\n",
    "version = project.version(16)\n",
    "dataset = version.download(\"yolov5\")"
   ]
  },
  {
   "cell_type": "code",
   "execution_count": null,
   "metadata": {},
   "outputs": [],
   "source": [
    "!pip install roboflow\n",
    "\n",
    "from roboflow import Roboflow\n",
    "rf = Roboflow(api_key=\"hIqRQ3q6GNTEbr3gBq5v\")\n",
    "project = rf.workspace(\"politeknik-negeri-jakarta-bivo4\").project(\"deteksi-helm\")\n",
    "version = project.version(16)\n",
    "dataset = version.download(\"yolov5\")"
   ]
  },
  {
   "cell_type": "code",
   "execution_count": null,
   "metadata": {},
   "outputs": [],
   "source": [
    "!python train.py --img 283 --batch 16 --epochs 50 --data {dataset.location}/data.yaml --weights yolov5s.pt --cache"
   ]
  }
 ],
 "metadata": {
  "kernelspec": {
   "display_name": "Python 3",
   "language": "python",
   "name": "python3"
  },
  "language_info": {
   "name": "python",
   "version": "3.12.3"
  }
 },
 "nbformat": 4,
 "nbformat_minor": 2
}
